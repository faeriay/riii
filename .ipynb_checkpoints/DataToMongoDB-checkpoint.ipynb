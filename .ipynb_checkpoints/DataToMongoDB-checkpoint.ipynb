{
 "cells": [
  {
   "cell_type": "markdown",
   "metadata": {},
   "source": [
    "#Insert data to MongoDB"
   ]
  },
  {
   "cell_type": "code",
   "execution_count": 22,
   "metadata": {
    "collapsed": false
   },
   "outputs": [],
   "source": [
    "import re\n",
    "import glob\n",
    "import codecs\n",
    "import pymongo\n",
    "from pymongo import MongoClient\n",
    "\n",
    "def no_court(content):\n",
    "    court_no = {u\"臺北地方\":100,u\"士林地方\":111,u\"新北地方\":220,u\"宜蘭地方\":260,u\"基隆地方\":200,u\"桃園地方\":320,u\"新竹地方\":300,u\"苗栗地方\":350,u\"臺中地方\":400,u\"彰化地方\":500,u\"南投地方\":540,u\"臺南地方\":700,u\"高雄地方\":800,u\"花蓮地方\":970,u\"雲林地方\":630,u\"嘉義地方\":602,u\"臺東地方\":950,u\"屏東地方\":900,u\"澎湖地方\":880,u\"福建金門\":890,u\"福建連江\":209,u\"高雄少年\":850}\n",
    "    m = re.search(u'[  \\d]*(灣|福建)(\\S{4})法院(民事|家事|暫時|支付)(\\S{2})',content)\n",
    "    return str(court_no[m.group(2)])\n",
    "\n",
    "def no_jurytype(content):\n",
    "    jurytype_no = {u\"婚\":11,u\"婚再\":12,u\"婚更\":13,u\"家聲\":21,u\"家訴\":22,u\"家抗\":23,u\"家陸許\":24,u\"司家聲\":30,u\"基家簡\":25,u\"重家訴\":26,u\"婚更一\":27,u\"婚更(一)\":28,u\"司家調\":29,u\"家移調\":31,u\"家簡\":32,u\"家調裁\":33,u\"家查\":34,u\"家聲抗\":35,u\"家調裁\":36,u\"家調補\":37,u\"司家補\":38,u\"家親聲\":39,u\"司家簡調\":40,u\"家簡上\":41,u\"家小\":42,u\"家救\":43,u\"家小上\":44,u\"家婚聲\":45,u\"家再\":46,u\"家他\":47,u\"補\":90}\n",
    "    m = re.search(u'(【裁判字號】)(.*?),(.*?),(\\d{1,4})[^【】 ]',content)\n",
    "    return m.group(2)+\"_\"+str(jurytype_no[m.group(3)])+\"_\"+m.group(4)\n",
    "\n",
    "def judgedate(content):\n",
    "    m = re.search(u'(【裁判日期】)(\\d{6,7})',content)\n",
    "    return m.group(2)\n",
    "\n",
    "def courtname(content):\n",
    "    m = re.search(u'[  \\d]*(灣|福建)(\\S{4})法院(民事|家事|暫時|支付)(\\S{2})',content)\n",
    "    return m.group(2)\n",
    "\n",
    "def getPK(content):\n",
    "    return no_court(content)+\"_\"+no_jurytype(content)+\"_\"+judgedate(content)\n",
    "\n",
    "\n",
    "#make a connection to mongodb \n",
    "client = pymongo.MongoClient('localhost',27017)\n",
    "#assign db_name to db\n",
    "db = client.test\n",
    "#make the collection in the db of test\n",
    "collection = db['dday']\n",
    "dday = db.dday\n",
    "#read the judicial case in the directory\n",
    "for i in glob.glob(u'./samples/*.txt'):\n",
    "    with codecs.open(i,'r','utf-8') as f :\n",
    "        content = f.read() # 不能圖超過 2Mb\n",
    "        f.close() # 在with 中 可不寫,會強制關閉\n",
    "        #make the bson formate and assign to the dic\n",
    "        dic = {\"_id\":getPK(content),\"juryno\":no_jurytype(content),\"judgedate\":judgedate(content),\"courtname\":courtname(content)}\n",
    "        #insert to the collection of dday\n",
    "        dday_id = dday.insert(dic)\n",
    "\n",
    "#make the new collection of location\n",
    "collection = db['location']\n",
    "court_no = {u\"臺北地方\":100,u\"士林地方\":111,u\"新北地方\":220,u\"宜蘭地方\":260,u\"基隆地方\":200,u\"桃園地方\":320,u\"新竹地方\":300,u\"苗栗地方\":350,u\"臺中地方\":400,u\"彰化地方\":500,u\"南投地方\":540,u\"臺南地方\":700,u\"高雄地方\":800,u\"花蓮地方\":970,u\"雲林地方\":630,u\"嘉義地方\":602,u\"臺東地方\":950,u\"屏東地方\":900,u\"澎湖地方\":880,u\"福建金門\":890,u\"福建連江\":209,u\"高雄少年\":850}\n",
    "#make the doc of location -> id = zip code, loc=court location\n",
    "for i in range(0,len(court_no.keys())):\n",
    "    dic = {\"_id\":court_no.values()[i],\"loc\":court_no.keys()[i]}\n",
    "    insert_loc = db.location.insert(dic) "
   ]
  },
  {
   "cell_type": "markdown",
   "metadata": {},
   "source": [
    "#Query data in MongoDB"
   ]
  },
  {
   "cell_type": "code",
   "execution_count": 2,
   "metadata": {
    "collapsed": false
   },
   "outputs": [
    {
     "name": "stdout",
     "output_type": "stream",
     "text": [
      "judgedate:891031 juryno:86_11_243\n",
      "judgedate:890613 juryno:87_11_244\n",
      "judgedate:891226 juryno:88_11_107\n",
      "judgedate:890608 juryno:88_11_164\n",
      "judgedate:890322 juryno:88_11_184\n",
      "judgedate:890128 juryno:88_11_209\n",
      "judgedate:890131 juryno:88_11_213\n",
      "judgedate:890114 juryno:88_11_240\n",
      "judgedate:890418 juryno:88_11_247\n",
      "judgedate:890308 juryno:88_11_280\n"
     ]
    }
   ],
   "source": [
    "import re\n",
    "import glob\n",
    "import codecs\n",
    "import _uniout\n",
    "import pymongo\n",
    "from pymongo import MongoClient\n",
    "#make a connection to mongodb \n",
    "client = pymongo.MongoClient('localhost',27017)\n",
    "#assign db_name to db\n",
    "db = client.test\n",
    "#make the collection in the db of test\n",
    "collection = db['dday']\n",
    "dday = db.dday\n",
    "#print the case number in db.dday\n",
    "for i in dday.find({},{'_id':0,'juryno':1,'judgedate':1}):\n",
    "    #print _uniout.unescape(str(i),'utf-8') \n",
    "    print i.keys()[0]+\":\"+i.values()[0],i.keys()[1]+\":\"+i.values()[1]\n"
   ]
  },
  {
   "cell_type": "markdown",
   "metadata": {},
   "source": [
    "# Update document in MongoDB"
   ]
  },
  {
   "cell_type": "code",
   "execution_count": 29,
   "metadata": {
    "collapsed": false
   },
   "outputs": [],
   "source": [
    "import re\n",
    "import glob\n",
    "import codecs\n",
    "import _uniout\n",
    "import pymongo\n",
    "from pymongo import MongoClient\n",
    "\n",
    "def no_court(content):\n",
    "    court_no = {u\"臺北地方\":100,u\"士林地方\":111,u\"新北地方\":220,u\"宜蘭地方\":260,u\"基隆地方\":200,u\"桃園地方\":320,u\"新竹地方\":300,u\"苗栗地方\":350,u\"臺中地方\":400,u\"彰化地方\":500,u\"南投地方\":540,u\"臺南地方\":700,u\"高雄地方\":800,u\"花蓮地方\":970,u\"雲林地方\":630,u\"嘉義地方\":602,u\"臺東地方\":950,u\"屏東地方\":900,u\"澎湖地方\":880,u\"福建金門\":890,u\"福建連江\":209,u\"高雄少年\":850}\n",
    "    m = re.search(u'[  \\d]*(灣|福建)(\\S{4})法院(民事|家事|暫時|支付)(\\S{2})',content)\n",
    "    return str(court_no[m.group(2)])\n",
    "\n",
    "def no_jurytype(content):\n",
    "    jurytype_no = {u\"婚\":11,u\"婚再\":12,u\"婚更\":13,u\"家聲\":21,u\"家訴\":22,u\"家抗\":23,u\"家陸許\":24,u\"司家聲\":30,u\"基家簡\":25,u\"重家訴\":26,u\"婚更一\":27,u\"婚更(一)\":28,u\"司家調\":29,u\"家移調\":31,u\"家簡\":32,u\"家調裁\":33,u\"家查\":34,u\"家聲抗\":35,u\"家調裁\":36,u\"家調補\":37,u\"司家補\":38,u\"家親聲\":39,u\"司家簡調\":40,u\"家簡上\":41,u\"家小\":42,u\"家救\":43,u\"家小上\":44,u\"家婚聲\":45,u\"家再\":46,u\"家他\":47,u\"補\":90}\n",
    "    m = re.search(u'(【裁判字號】)(.*?),(.*?),(\\d{1,4})[^【】 ]',content)\n",
    "    return m.group(2)+\"_\"+str(jurytype_no[m.group(3)])+\"_\"+m.group(4)\n",
    "\n",
    "def judgedate(content):\n",
    "    m = re.search(u'(【裁判日期】)(\\d{6,7})',content)\n",
    "    return m.group(2)\n",
    "\n",
    "def getPK(content):\n",
    "    return no_court(content)+\"_\"+no_jurytype(content)+\"_\"+judgedate(content)\n",
    "\n",
    "#make a connection to mongodb \n",
    "client = pymongo.MongoClient('localhost',27017)\n",
    "#assign db_name to db\n",
    "db = client.test\n",
    "#make the collection in the db of test\n",
    "collection = db['dday']\n",
    "dday = db.dday\n",
    "#read the judicial case in the directory\n",
    "dir_path = glob.glob(u'./samples/*.txt')\n",
    "for i in dir_path:\n",
    "    with codecs.open(i,'r','utf-8') as f :\n",
    "        content = f.read() # 不能圖超過 2Mb\n",
    "        f.close() # 在with 中 可不寫,會強制關閉\n",
    "        #create the new field\n",
    "        filename = re.search(u'(.*)/(.*?).txt',i).group(2)\n",
    "        #update new field to the dday collection\n",
    "        update = dday.update({\"_id\":getPK(content)},{\"$set\":{\"location\":no_court(content)}},upsert=False)\n",
    "\n",
    "        "
   ]
  },
  {
   "cell_type": "markdown",
   "metadata": {},
   "source": [
    "# Join two collection in query"
   ]
  },
  {
   "cell_type": "code",
   "execution_count": null,
   "metadata": {
    "collapsed": true
   },
   "outputs": [],
   "source": [
    "import pymongo\n",
    "from pymongo import MongoClient\n",
    "#make a connection to mongodb \n",
    "client = pymongo.MongoClient('localhost',27017)\n",
    "#assign db_name to db\n",
    "db = client.test\n",
    "#connect two collection in the db of test\n",
    "collection = db['dday']\n",
    "dday = db.dday\n",
    "collection = db['location']\n",
    "#make the dictionary from collection of \"location\"\n",
    "dic_loc = {}\n",
    "for j in db.location.find():\n",
    "    dic_loc.update({str(j[\"_id\"]):j[\"loc\"]})\n",
    "#join query in python\n",
    "for i in dday.find({},{'_id':0,'juryno':1,'location':1}):\n",
    "    #print _uniout.unescape(str(i),'utf-8') \n",
    "    print i['juryno'],\"ZIP:\"+i[\"location\"],\"location:\"+dic_loc[i[\"location\"]]"
   ]
  },
  {
   "cell_type": "markdown",
   "metadata": {},
   "source": [
    "# Remove the field"
   ]
  },
  {
   "cell_type": "code",
   "execution_count": 26,
   "metadata": {
    "collapsed": true
   },
   "outputs": [],
   "source": [
    "import pymongo\n",
    "from pymongo import MongoClient\n",
    "#make a connection to mongodb \n",
    "client = pymongo.MongoClient('localhost',27017)\n",
    "#client = pymongo.MongoClient('mongodb://10.120.28.4',27017)\n",
    "#the name of db\n",
    "db = client.test\n",
    "#make the collection in the db of test\n",
    "collection = db['dday']\n",
    "dday = db.dday\n",
    "#Drop the field of \"filename2\"\n",
    "for i in dday.find():\n",
    "    dropfield = dday.update({},{\"$unset\":{\"filename2\":\"\"}},upsert=False,multi=True)\n"
   ]
  },
  {
   "cell_type": "markdown",
   "metadata": {},
   "source": [
    "#Drop the collection"
   ]
  },
  {
   "cell_type": "code",
   "execution_count": 8,
   "metadata": {
    "collapsed": false
   },
   "outputs": [],
   "source": [
    "import pymongo\n",
    "from pymongo import MongoClient\n",
    "#make a connection to mongodb \n",
    "client = pymongo.MongoClient('localhost',27017)\n",
    "#client = pymongo.MongoClient('mongodb://10.120.28.4',27017)\n",
    "#account of db ??\n",
    "db = client.test\n",
    "#make the collection in the db of test\n",
    "collection = db['dday']\n",
    "dday = db.dday\n",
    "#Drop the collection of \"dday\"\n",
    "db.drop_collection('dday')\n"
   ]
  },
  {
   "cell_type": "markdown",
   "metadata": {},
   "source": [
    "# Clone the collection to new db"
   ]
  },
  {
   "cell_type": "code",
   "execution_count": 24,
   "metadata": {
    "collapsed": false
   },
   "outputs": [],
   "source": [
    "import pymongo\n",
    "from pymongo import MongoClient\n",
    "client = pymongo.MongoClient('localhost',27017)\n",
    "#assign db_name to db\n",
    "db = client.test\n",
    "#make the collection in the db of test\n",
    "collection = db['dday']\n",
    "dday = db.dday\n",
    "#create the new db and collection\n",
    "db2 = client.test2\n",
    "collection = db2['dday']\n",
    "dday2 = db2.dday\n",
    "for i in dday.find():\n",
    "    insert = dday2.insert(i)\n",
    "    "
   ]
  },
  {
   "cell_type": "markdown",
   "metadata": {},
   "source": [
    "# Import and overwrite the collection from another db"
   ]
  },
  {
   "cell_type": "code",
   "execution_count": 25,
   "metadata": {
    "collapsed": false
   },
   "outputs": [],
   "source": [
    "import pymongo\n",
    "from pymongo import MongoClient\n",
    "client = pymongo.MongoClient('localhost',27017)\n",
    "#db for importing \n",
    "db = client.test\n",
    "collection = db['dday']\n",
    "dday = db.dday\n",
    "#the source of db2 \n",
    "db2 = client.test2\n",
    "collection = db2['dday']\n",
    "dday2 = db2.dday\n",
    "for i in dday2.find():\n",
    "    update = dday.update({\"_id\":i[\"_id\"]},{\"$set\":i},upsert=False)\n",
    "    "
   ]
  }
 ],
 "metadata": {
  "kernelspec": {
   "display_name": "Python 2",
   "language": "python",
   "name": "python2"
  },
  "language_info": {
   "codemirror_mode": {
    "name": "ipython",
    "version": 2
   },
   "file_extension": ".py",
   "mimetype": "text/x-python",
   "name": "python",
   "nbconvert_exporter": "python",
   "pygments_lexer": "ipython2",
   "version": "2.7.9"
  }
 },
 "nbformat": 4,
 "nbformat_minor": 0
}
