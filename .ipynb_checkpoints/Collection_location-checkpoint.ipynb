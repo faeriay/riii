{
 "cells": [
  {
   "cell_type": "code",
   "execution_count": 19,
   "metadata": {
    "collapsed": false
   },
   "outputs": [
    {
     "name": "stdout",
     "output_type": "stream",
     "text": [
      "臺北地方 100\n",
      "嘉義地方 602\n",
      "高雄少年 850\n",
      "新竹地方 300\n",
      "桃園地方 320\n",
      "彰化地方 500\n",
      "基隆地方 200\n",
      "花蓮地方 970\n",
      "福建連江 209\n",
      "宜蘭地方 260\n",
      "高雄地方 800\n",
      "屏東地方 900\n",
      "新北地方 220\n",
      "臺中地方 400\n",
      "雲林地方 630\n",
      "士林地方 111\n",
      "臺南地方 700\n",
      "苗栗地方 350\n",
      "澎湖地方 880\n",
      "福建金門 890\n",
      "臺東地方 950\n",
      "南投地方 540\n"
     ]
    }
   ],
   "source": [
    "import re\n",
    "import glob\n",
    "import codecs\n",
    "import pymongo\n",
    "from pymongo import MongoClient\n",
    "\n",
    "def no_court(content):\n",
    "    court_no = {u\"臺北地方\":100,u\"士林地方\":111,u\"新北地方\":220,u\"宜蘭地方\":260,u\"基隆地方\":200,u\"桃園地方\":320,u\"新竹地方\":300,u\"苗栗地方\":350,u\"臺中地方\":400,u\"彰化地方\":500,u\"南投地方\":540,u\"臺南地方\":700,u\"高雄地方\":800,u\"花蓮地方\":970,u\"雲林地方\":630,u\"嘉義地方\":602,u\"臺東地方\":950,u\"屏東地方\":900,u\"澎湖地方\":880,u\"福建金門\":890,u\"福建連江\":209,u\"高雄少年\":850}\n",
    "    m = re.search(u'[  \\d]*(灣|福建)(\\S{4})法院(民事|家事|暫時|支付)(\\S{2})',content)\n",
    "    return str(court_no[m.group(2)])\n",
    "\n",
    "'''\n",
    "for i in glob.glob(u'./samples/*.txt'):\n",
    "    with codecs.open(i,'r','utf-8') as f :\n",
    "        content = f.read()\n",
    "        print no_court(content)\n",
    "'''\n",
    "\n",
    "\n",
    "\n",
    "for i in range(0,len(court_no.keys())):\n",
    "    print  court_no.keys()[i],court_no.values()[i]\n",
    "\n",
    "    \n",
    "#make a connection to mongodb \n",
    "client = pymongo.MongoClient('localhost',27017)\n",
    "#assign db_name to db\n",
    "db = client.test\n",
    "#make the new collection of location\n",
    "collection = db['location']\n",
    "court_no = {u\"臺北地方\":100,u\"士林地方\":111,u\"新北地方\":220,u\"宜蘭地方\":260,u\"基隆地方\":200,u\"桃園地方\":320,u\"新竹地方\":300,u\"苗栗地方\":350,u\"臺中地方\":400,u\"彰化地方\":500,u\"南投地方\":540,u\"臺南地方\":700,u\"高雄地方\":800,u\"花蓮地方\":970,u\"雲林地方\":630,u\"嘉義地方\":602,u\"臺東地方\":950,u\"屏東地方\":900,u\"澎湖地方\":880,u\"福建金門\":890,u\"福建連江\":209,u\"高雄少年\":850}\n",
    "#make the doc of location -> id = zip code, loc=court location\n",
    "for i in range(0,len(court_no.keys())):\n",
    "    dic = {\"_id\":court_no.values()[i],\"loc\":court_no.keys()[i]}\n",
    "    insert_loc = db.location.insert(dic)  \n"
   ]
  },
  {
   "cell_type": "code",
   "execution_count": 38,
   "metadata": {
    "collapsed": false
   },
   "outputs": [
    {
     "name": "stdout",
     "output_type": "stream",
     "text": [
      "88_11_107 ZIP:602 location:嘉義地方\n",
      "88_11_164 ZIP:602 location:嘉義地方\n",
      "88_11_184 ZIP:602 location:嘉義地方\n",
      "88_11_209 ZIP:602 location:嘉義地方\n",
      "88_11_213 ZIP:602 location:嘉義地方\n",
      "88_11_240 ZIP:602 location:嘉義地方\n",
      "88_11_247 ZIP:602 location:嘉義地方\n",
      "88_11_280 ZIP:602 location:嘉義地方\n",
      "86_11_243 ZIP:602 location:嘉義地方\n",
      "87_11_244 ZIP:602 location:嘉義地方\n"
     ]
    }
   ],
   "source": [
    "import pymongo\n",
    "from pymongo import MongoClient\n",
    "#make a connection to mongodb \n",
    "client = pymongo.MongoClient('localhost',27017)\n",
    "#assign db_name to db\n",
    "db = client.test\n",
    "#connect two collection in the db of test\n",
    "collection = db['dday']\n",
    "dday = db.dday\n",
    "collection = db['location']\n",
    "#make the dictionary from collection of \"location\"\n",
    "dic_loc = {}\n",
    "for j in db.location.find():\n",
    "    dic_loc.update({str(j[\"_id\"]):j[\"loc\"]})\n",
    "#join query in python\n",
    "for i in dday.find({},{'_id':0,'juryno':1,'location':1}):\n",
    "    #print _uniout.unescape(str(i),'utf-8') \n",
    "    print i['juryno'],\"ZIP:\"+i[\"location\"],\"location:\"+dic_loc[i[\"location\"]]\n",
    "\n"
   ]
  }
 ],
 "metadata": {
  "kernelspec": {
   "display_name": "Python 2",
   "language": "python",
   "name": "python2"
  },
  "language_info": {
   "codemirror_mode": {
    "name": "ipython",
    "version": 2
   },
   "file_extension": ".py",
   "mimetype": "text/x-python",
   "name": "python",
   "nbconvert_exporter": "python",
   "pygments_lexer": "ipython2",
   "version": "2.7.9"
  }
 },
 "nbformat": 4,
 "nbformat_minor": 0
}
